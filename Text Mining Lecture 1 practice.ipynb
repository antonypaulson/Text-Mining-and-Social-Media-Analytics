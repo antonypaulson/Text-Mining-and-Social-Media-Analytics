{
 "cells": [
  {
   "cell_type": "code",
   "execution_count": 38,
   "metadata": {},
   "outputs": [
    {
     "name": "stdout",
     "output_type": "stream",
     "text": [
      "history\n",
      "math\n",
      "['history', 'math']\n",
      "['physics', 'compsci', 'math']\n",
      "True\n",
      "False\n"
     ]
    }
   ],
   "source": [
    "course =['history','math','physics','compsci', 'math']\n",
    "print (course[0])\n",
    "print (course[-1])\n",
    "print (course[0:2])\n",
    "print (course[2:])\n",
    "print ('math' in course)\n",
    "print ('math' not in course)"
   ]
  },
  {
   "cell_type": "code",
   "execution_count": 24,
   "metadata": {},
   "outputs": [
    {
     "name": "stdout",
     "output_type": "stream",
     "text": [
      "['art', 'history', 'math', 'physics', 'compsci', 'math']\n"
     ]
    }
   ],
   "source": [
    "course.insert(0,'art')\n",
    "print (course)"
   ]
  },
  {
   "cell_type": "code",
   "execution_count": 25,
   "metadata": {},
   "outputs": [
    {
     "name": "stdout",
     "output_type": "stream",
     "text": [
      "['history', 'math', 'physics', 'compsci', 'math']\n"
     ]
    }
   ],
   "source": [
    "course.remove('art')\n",
    "print (course)"
   ]
  },
  {
   "cell_type": "code",
   "execution_count": 26,
   "metadata": {},
   "outputs": [
    {
     "name": "stdout",
     "output_type": "stream",
     "text": [
      "['history', 'math', 'physics', 'compsci', 'math', 'NLP']\n"
     ]
    }
   ],
   "source": [
    "course.append('NLP')\n",
    "print (course)"
   ]
  },
  {
   "cell_type": "code",
   "execution_count": 27,
   "metadata": {},
   "outputs": [
    {
     "name": "stdout",
     "output_type": "stream",
     "text": [
      "NLP\n",
      "['history', 'math', 'physics', 'compsci', 'math']\n"
     ]
    }
   ],
   "source": [
    "popped = course.pop()\n",
    "print (popped)\n",
    "print (course)"
   ]
  },
  {
   "cell_type": "code",
   "execution_count": 28,
   "metadata": {},
   "outputs": [
    {
     "data": {
      "text/plain": [
       "1"
      ]
     },
     "execution_count": 28,
     "metadata": {},
     "output_type": "execute_result"
    }
   ],
   "source": [
    "course.index('math') #gives index of the first "
   ]
  },
  {
   "cell_type": "code",
   "execution_count": 33,
   "metadata": {},
   "outputs": [
    {
     "name": "stdout",
     "output_type": "stream",
     "text": [
      "['history', 'math', 'physics', 'compsci', 'math', 'education', 'biology']\n"
     ]
    }
   ],
   "source": [
    "course2 =['education','biology']\n",
    "course.extend(course2)\n",
    "print (course)"
   ]
  },
  {
   "cell_type": "code",
   "execution_count": 34,
   "metadata": {},
   "outputs": [],
   "source": [
    "# Tuples are like lists but they are immutable"
   ]
  },
  {
   "cell_type": "code",
   "execution_count": 39,
   "metadata": {},
   "outputs": [
    {
     "name": "stdout",
     "output_type": "stream",
     "text": [
      "['history', 'math', 'physics', 'compsci', 'math']\n"
     ]
    }
   ],
   "source": [
    "#set removes duplicates and randomises the collection\n",
    "course3 ={'history','math','physics','compsci', 'math'}\n",
    "print (course)"
   ]
  },
  {
   "cell_type": "code",
   "execution_count": 42,
   "metadata": {},
   "outputs": [
    {
     "name": "stdout",
     "output_type": "stream",
     "text": [
      "['history', 'math', 'physics', 'compsci', 'math']\n",
      "{'compsci', 'physics', 'history', 'math'}\n"
     ]
    }
   ],
   "source": [
    "#removing duplicates in a list\n",
    "print (course)\n",
    "print (set(course))"
   ]
  },
  {
   "cell_type": "code",
   "execution_count": 44,
   "metadata": {},
   "outputs": [
    {
     "name": "stdout",
     "output_type": "stream",
     "text": [
      "['history', 'math', 'physics', 'compsci', 'math']\n",
      "['history', 'physics', 'compsci', 'math']\n"
     ]
    }
   ],
   "source": [
    "print (course)\n",
    "for i in course:\n",
    "    if course.count(i) > 1:\n",
    "        course.remove(i)\n",
    "    else:\n",
    "        continue\n",
    "print (course)"
   ]
  },
  {
   "cell_type": "code",
   "execution_count": 47,
   "metadata": {},
   "outputs": [
    {
     "name": "stdout",
     "output_type": "stream",
     "text": [
      "{'1st property': 'xy'}\n"
     ]
    }
   ],
   "source": [
    "dict2 = {}\n",
    "dict2['1st property'] = 'xy'\n",
    "print (dict2)"
   ]
  },
  {
   "cell_type": "code",
   "execution_count": 59,
   "metadata": {},
   "outputs": [
    {
     "name": "stdout",
     "output_type": "stream",
     "text": [
      "Please enter a language//: java\n",
      "Java is super Boring, Python is much cooler\n"
     ]
    }
   ],
   "source": [
    "#conditional statements:\n",
    "language = input('Please enter a language//: ')\n",
    "def lang_check(language):\n",
    "    if language == 'Python':\n",
    "        print ('Awesome')\n",
    "    elif language == 'java':\n",
    "        print ('Java is super Boring, Python is much cooler')\n",
    "    else:\n",
    "        print ('not sure')\n",
    "lang_check(language)"
   ]
  },
  {
   "cell_type": "code",
   "execution_count": 55,
   "metadata": {},
   "outputs": [
    {
     "name": "stdout",
     "output_type": "stream",
     "text": [
      "The number 3  was found in the positon  2 of the list\n"
     ]
    }
   ],
   "source": [
    "#iteration\n",
    "nums = [1,2,3,4]\n",
    "for i in nums:\n",
    "    if i == 3:\n",
    "        print ('The number', i, ' was found in the positon ', nums.index(i), 'of the list')\n",
    "        break"
   ]
  },
  {
   "cell_type": "code",
   "execution_count": 87,
   "metadata": {},
   "outputs": [
    {
     "name": "stdout",
     "output_type": "stream",
     "text": [
      "komalManikandan@company.com\n",
      "UT\n",
      "60000\n",
      "62400.0\n"
     ]
    }
   ],
   "source": [
    "class Employee:\n",
    "    \n",
    "    raise_amount = 1.04\n",
    "    def __init__(self,first,last,pay):\n",
    "        self.first = first\n",
    "        self.last = last\n",
    "        self.pay = pay\n",
    "        self.email = last+first+'@company.com'\n",
    "    \n",
    "    def initial(self):\n",
    "        ini = self.last[0].upper() + self.first[0].upper()\n",
    "        return ini\n",
    "    \n",
    "    def apply_raise(self):\n",
    "        self.pay = self.pay*Employee.raise_amount\n",
    "emp1 = Employee('Manikandan','komal',50000)\n",
    "emp2 = Employee( 'test' , 'user', 60000)\n",
    "\n",
    "print(emp1.email)\n",
    "print(emp2.initial())\n",
    "print (emp2.pay)\n",
    "Employee.apply_raise(emp2)\n",
    "print (emp2.pay)"
   ]
  },
  {
   "cell_type": "code",
   "execution_count": null,
   "metadata": {},
   "outputs": [],
   "source": []
  }
 ],
 "metadata": {
  "kernelspec": {
   "display_name": "Python 3",
   "language": "python",
   "name": "python3"
  },
  "language_info": {
   "codemirror_mode": {
    "name": "ipython",
    "version": 3
   },
   "file_extension": ".py",
   "mimetype": "text/x-python",
   "name": "python",
   "nbconvert_exporter": "python",
   "pygments_lexer": "ipython3",
   "version": "3.7.2"
  }
 },
 "nbformat": 4,
 "nbformat_minor": 2
}
