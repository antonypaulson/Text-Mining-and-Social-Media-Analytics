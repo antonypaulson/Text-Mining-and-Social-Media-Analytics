{
 "cells": [
  {
   "cell_type": "code",
   "execution_count": null,
   "metadata": {},
   "outputs": [],
   "source": [
    "#Modifiers{DO NOT RUN THIS CELL}\n",
    "***\n",
    "\\d : one number\n",
    "\\w : number/letter\n",
    "\\s : space\n",
    "[]: range\n",
    "{}: number of characters\n",
    ". : anything into 1\n",
    "+ :  1 or more\n",
    "* : 0 or more\n",
    "? : 0 or 1\n",
    "^ : start of word\n",
    "$ : end of word\n",
    ".*: anything\n",
    "***"
   ]
  },
  {
   "cell_type": "code",
   "execution_count": 1,
   "metadata": {},
   "outputs": [],
   "source": [
    "#importing re library\n",
    "import re\n",
    "text = ' 101 COM     Computer 205 MAT Math 89 ENG English'"
   ]
  },
  {
   "cell_type": "code",
   "execution_count": 2,
   "metadata": {},
   "outputs": [
    {
     "name": "stdout",
     "output_type": "stream",
     "text": [
      "['', '101', 'COM', '', '', '', '', 'Computer', '205', 'MAT', 'Math', '89', 'ENG', 'English']\n"
     ]
    }
   ],
   "source": [
    "# Gives a list of words\n",
    "value = re.split('\\s', text)\n",
    "print (value)\n"
   ]
  },
  {
   "cell_type": "code",
   "execution_count": 4,
   "metadata": {},
   "outputs": [
    {
     "name": "stdout",
     "output_type": "stream",
     "text": [
      "['', '101', 'COM', 'Computer', '205', 'MAT', 'Math', '89', 'ENG', 'English']\n"
     ]
    }
   ],
   "source": [
    "#removing space\n",
    "value2 = re.split('\\s+', text)\n",
    "print (value2)"
   ]
  },
  {
   "cell_type": "code",
   "execution_count": 27,
   "metadata": {},
   "outputs": [
    {
     "name": "stdout",
     "output_type": "stream",
     "text": [
      "['101', '205', '89']\n",
      "['', '1', '0', '1', '', '', '', '', '', '', '', '', '', '', '', '', '', '', '', '', '', '', '2', '0', '5', '', '', '', '', '', '', '', '', '', '', '8', '9', '', '', '', '', '', '', '', '', '', '', '', '', '']\n"
     ]
    }
   ],
   "source": [
    "#find all\n",
    "#Locating all numbers\n",
    "value3 =  re.findall('\\d+',text)\n",
    "value4 = re.findall('\\d?',text)\n",
    "print (value3) \n",
    "print (value4)"
   ]
  },
  {
   "cell_type": "code",
   "execution_count": 28,
   "metadata": {},
   "outputs": [
    {
     "name": "stdout",
     "output_type": "stream",
     "text": [
      "['101', 'COM', 'Computer', '205', 'MAT', 'Math', '89', 'ENG', 'English']\n"
     ]
    }
   ],
   "source": [
    "#Find individual letters is w and for words is w+ or number\n",
    "value5 = re.findall('\\w+', text)\n",
    "print (value5)"
   ]
  },
  {
   "cell_type": "code",
   "execution_count": 33,
   "metadata": {},
   "outputs": [
    {
     "name": "stdout",
     "output_type": "stream",
     "text": [
      "['omputer', 'ath', 'nglish']\n"
     ]
    }
   ],
   "source": [
    "#using range and find lower case letters\n",
    "value6 = re.findall('[a-z]+', text)\n",
    "print (value6)"
   ]
  },
  {
   "cell_type": "code",
   "execution_count": 34,
   "metadata": {},
   "outputs": [
    {
     "name": "stdout",
     "output_type": "stream",
     "text": [
      "['Computer', 'Math', 'English']\n"
     ]
    }
   ],
   "source": [
    "#Finding capital letters too\n",
    "value7 = re.findall('[A-z][a-z]+', text)\n",
    "print(value7)"
   ]
  },
  {
   "cell_type": "code",
   "execution_count": 35,
   "metadata": {},
   "outputs": [
    {
     "name": "stdout",
     "output_type": "stream",
     "text": [
      "['COM', 'C', 'MAT', 'M', 'ENG', 'E']\n"
     ]
    }
   ],
   "source": [
    "# finding all capital letters\n",
    "value8 = re.findall('[A-Z]+', text)\n",
    "print (value8)"
   ]
  },
  {
   "cell_type": "code",
   "execution_count": 44,
   "metadata": {},
   "outputs": [
    {
     "name": "stdout",
     "output_type": "stream",
     "text": [
      "['COM', 'MAT', 'ENG']\n"
     ]
    }
   ],
   "source": [
    "#Finding ONLY CAP words\n",
    "value9 = re.findall('[A-Z]{2,}',text)\n",
    "print (value9)"
   ]
  },
  {
   "cell_type": "code",
   "execution_count": 37,
   "metadata": {},
   "outputs": [
    {
     "name": "stdout",
     "output_type": "stream",
     "text": [
      "['COM', 'Computer', 'MAT', 'Math', 'ENG', 'English']\n"
     ]
    }
   ],
   "source": [
    "# Words with capital letters in them\n",
    "value10 = re.findall('[A-Z]\\w+', text)\n",
    "print (value10)"
   ]
  },
  {
   "cell_type": "code",
   "execution_count": 52,
   "metadata": {},
   "outputs": [
    {
     "name": "stdout",
     "output_type": "stream",
     "text": [
      "e : 3\n",
      "a : 3\n",
      "e : 3\n",
      "a : 3\n",
      "i : 3\n",
      "e : 3\n",
      "i : 3\n",
      "i : 3\n",
      "a : 3\n"
     ]
    }
   ],
   "source": [
    "word = 'we are taking text mining class'\n",
    "vowel = re.findall('[aeiou]', word)\n",
    "for i in vowel:\n",
    "    print (i, ':', vowel.count('i'))"
   ]
  },
  {
   "cell_type": "code",
   "execution_count": 55,
   "metadata": {},
   "outputs": [
    {
     "name": "stdout",
     "output_type": "stream",
     "text": [
      "pave\n"
     ]
    }
   ],
   "source": [
    "# Finding the stemmer\n",
    "def stemmer(word):\n",
    "    for suffix in ['ing', 'ly', 'ed', 'ment']:\n",
    "        if word.endswith(suffix):\n",
    "            length = len(suffix)\n",
    "            return word [:-length]\n",
    "print (stemmer('pavement'))"
   ]
  },
  {
   "cell_type": "code",
   "execution_count": 65,
   "metadata": {},
   "outputs": [
    {
     "name": "stdout",
     "output_type": "stream",
     "text": [
      "(['ing'], 'process')\n"
     ]
    }
   ],
   "source": [
    "#print both the stem and suffix\n",
    "def stemmer2(word):\n",
    "    suffix = re.findall('^.*(ing|ly|ed|ment)$', word)\n",
    "    length = len(suffix[0])\n",
    "    return suffix, word[:-length]\n",
    "print (stemmer2('processing'))"
   ]
  },
  {
   "cell_type": "code",
   "execution_count": 64,
   "metadata": {},
   "outputs": [
    {
     "name": "stdout",
     "output_type": "stream",
     "text": [
      "('process', 'ing')\n"
     ]
    }
   ],
   "source": [
    "#Printing both start and end of a word\n",
    "def stemmer2(word):\n",
    "        suffix = re.findall('^(.*)(ing|ly|ed|ment)$', word)\n",
    "    return suffix[0][0], suffix[0][1]\n",
    "print (stemmer2('processing'))"
   ]
  },
  {
   "cell_type": "markdown",
   "metadata": {},
   "source": [
    "#re.match\n",
    "\n",
    "import re\n",
    "text = '101 COM Computer 1010 MAT'\n",
    "pattern = "
   ]
  },
  {
   "cell_type": "code",
   "execution_count": 66,
   "metadata": {},
   "outputs": [
    {
     "name": "stdout",
     "output_type": "stream",
     "text": [
      "<re.Match object; span=(0, 7), match='101 COM'>\n"
     ]
    }
   ],
   "source": [
    "# Finds only from the first \n",
    "import re \n",
    "text = '101 COM Computer 1010 MAT' \n",
    "pattern = '\\d{1,3}\\s[A-Z]+'\n",
    "print (re.match(pattern, text))\n"
   ]
  },
  {
   "cell_type": "code",
   "execution_count": 84,
   "metadata": {},
   "outputs": [
    {
     "name": "stdout",
     "output_type": "stream",
     "text": [
      "<re.Match object; span=(0, 7), match='101 COM'> \n",
      " 101 COM \n",
      " (0, 7) \n",
      " 0 \n",
      " 7\n"
     ]
    }
   ],
   "source": [
    "x = re.match(pattern, text)\n",
    "print (x,'\\n',\n",
    "       x.group(),'\\n', \n",
    "       x.span(), '\\n',\n",
    "       x.start(), '\\n',\n",
    "       x.end())"
   ]
  },
  {
   "cell_type": "code",
   "execution_count": 92,
   "metadata": {},
   "outputs": [
    {
     "name": "stdout",
     "output_type": "stream",
     "text": [
      "<re.Match object; span=(0, 7), match='101 COM'>\n",
      "None\n",
      "<re.Match object; span=(1, 8), match='010 COM'>\n"
     ]
    }
   ],
   "source": [
    "import re \n",
    "text1 = '101 COM' \n",
    "text2 = '1010 COM' \n",
    "pattern = '\\d{1,3}\\s[A-Z]+'\n",
    "\n",
    "print (re.match(pattern, text1))\n",
    "print (re.match(pattern, text2))\n",
    "print (re.search(pattern, text2))"
   ]
  },
  {
   "cell_type": "code",
   "execution_count": 96,
   "metadata": {},
   "outputs": [
    {
     "name": "stdout",
     "output_type": "stream",
     "text": [
      "abandoned\n",
      "abraised\n",
      "closed\n",
      "abandoned\n",
      "abandon\n",
      "abraised\n"
     ]
    }
   ],
   "source": [
    "#Finding words that end with a certain suffix\n",
    "import re\n",
    "import nltk\n",
    "text = 'abandoned, abandon, help, abraised, open, closed'\n",
    "wordlist = nltk.word_tokenize(text)\n",
    "for i in wordlist:\n",
    "    if re.search('ed$', i ) :\n",
    "        print (i)\n",
    "\n",
    "for i in wordlist:\n",
    "    if re.search('^ab', i):\n",
    "        print (i)"
   ]
  },
  {
   "cell_type": "code",
   "execution_count": 99,
   "metadata": {},
   "outputs": [
    {
     "name": "stdout",
     "output_type": "stream",
     "text": [
      "dejected\n",
      "objected\n"
     ]
    }
   ],
   "source": [
    "text2 = 'dejected, inject, object, objected'\n",
    "wordlist2 = nltk.word_tokenize(text2)\n",
    "for i in wordlist2:\n",
    "    if re.search('^..j..t.d$', i):\n",
    "        print(i)"
   ]
  },
  {
   "cell_type": "code",
   "execution_count": 105,
   "metadata": {},
   "outputs": [
    {
     "name": "stdout",
     "output_type": "stream",
     "text": [
      "[['now', 'im', 'left', 'with', 'this', 'gay', 'name'], [':P'], ['PART']]\n"
     ]
    }
   ],
   "source": [
    "import nltk\n",
    "the_post = nltk.corpus.nps_chat.posts()\n",
    "print (the_post[0:3])\n"
   ]
  },
  {
   "cell_type": "code",
   "execution_count": 111,
   "metadata": {},
   "outputs": [
    {
     "name": "stdout",
     "output_type": "stream",
     "text": [
      "['now', 'im', 'left']\n"
     ]
    }
   ],
   "source": [
    "import nltk\n",
    "the_word = nltk.corpus.nps_chat.words()\n",
    "wordset = set(the_word)\n",
    "print (the_word[0:3])"
   ]
  },
  {
   "cell_type": "code",
   "execution_count": 115,
   "metadata": {},
   "outputs": [
    {
     "name": "stdout",
     "output_type": "stream",
     "text": [
      "['mines', 'femine', 'miiiiiiiiiiiiinnnnnnnnnnneeeeeeeeee', 'mmmmmmmmiiiiiiiiinnnnnnnnneeeeeeee', 'miiiiiinnnnnnnnnneeeeeeee', 'mine']\n"
     ]
    }
   ],
   "source": [
    "x = [x for x in wordset if re.search('m+i+n+e', x)!= None]\n",
    "print (x)"
   ]
  },
  {
   "cell_type": "code",
   "execution_count": 116,
   "metadata": {},
   "outputs": [
    {
     "ename": "SyntaxError",
     "evalue": "invalid syntax (<ipython-input-116-82b8a3fb074d>, line 2)",
     "output_type": "error",
     "traceback": [
      "\u001b[0;36m  File \u001b[0;32m\"<ipython-input-116-82b8a3fb074d>\"\u001b[0;36m, line \u001b[0;32m2\u001b[0m\n\u001b[0;31m    [0-9]+/.[0-9]+\u001b[0m\n\u001b[0m          ^\u001b[0m\n\u001b[0;31mSyntaxError\u001b[0m\u001b[0;31m:\u001b[0m invalid syntax\n"
     ]
    }
   ],
   "source": [
    "###Matching 36.5 \n",
    "[0-9]+/.[0-9]+"
   ]
  },
  {
   "cell_type": "code",
   "execution_count": 117,
   "metadata": {},
   "outputs": [
    {
     "ename": "SyntaxError",
     "evalue": "invalid syntax (<ipython-input-117-711793532baa>, line 2)",
     "output_type": "error",
     "traceback": [
      "\u001b[0;36m  File \u001b[0;32m\"<ipython-input-117-711793532baa>\"\u001b[0;36m, line \u001b[0;32m2\u001b[0m\n\u001b[0;31m    [HhAa]+\u001b[0m\n\u001b[0m           ^\u001b[0m\n\u001b[0;31mSyntaxError\u001b[0m\u001b[0;31m:\u001b[0m invalid syntax\n"
     ]
    }
   ],
   "source": [
    "###Matching HA HA HA\n",
    "[HhAa]+\n",
    "[Hh] + [HhAa]"
   ]
  },
  {
   "cell_type": "code",
   "execution_count": null,
   "metadata": {},
   "outputs": [],
   "source": [
    "[A-Za-z]{,3}- [A-Za-z]{,4}"
   ]
  }
 ],
 "metadata": {
  "kernelspec": {
   "display_name": "Python 3",
   "language": "python",
   "name": "python3"
  },
  "language_info": {
   "codemirror_mode": {
    "name": "ipython",
    "version": 3
   },
   "file_extension": ".py",
   "mimetype": "text/x-python",
   "name": "python",
   "nbconvert_exporter": "python",
   "pygments_lexer": "ipython3",
   "version": "3.7.2"
  }
 },
 "nbformat": 4,
 "nbformat_minor": 2
}
