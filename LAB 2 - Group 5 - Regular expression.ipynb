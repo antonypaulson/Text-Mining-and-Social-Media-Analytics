{
 "cells": [
  {
   "cell_type": "code",
   "execution_count": 15,
   "metadata": {},
   "outputs": [
    {
     "name": "stdout",
     "output_type": "stream",
     "text": [
      "[]\n",
      "['salvation', 'Playstation', 'relation', 'situation', 'conversation', 'information', 'fascination', 'moderation', 'cessation', 'registration', 'playstation', 'elevation', 'denomination']\n"
     ]
    }
   ],
   "source": [
    "import re\n",
    "import nltk\n",
    "the_word = nltk.corpus.nps_chat.words()\n",
    "wordset = set(the_word)\n",
    "x = [x for x in wordset if re.findall('a+s+i+o+n$', x)]\n",
    "y = [x for x in wordset if re.search('a+t+i+o+n$', x)]\n",
    "print (x)\n",
    "print (y)"
   ]
  },
  {
   "cell_type": "code",
   "execution_count": 54,
   "metadata": {},
   "outputs": [
    {
     "name": "stdout",
     "output_type": "stream",
     "text": [
      "['no', 'Nooooooooooooooo', 'Nooo', 'nooooo', 'No', 'noooooooooo', 'noo', 'noooooooooooooo', 'NO']\n"
     ]
    }
   ],
   "source": [
    "import re\n",
    "import nltk\n",
    "the_word = nltk.corpus.nps_chat.words()\n",
    "wordset = set(the_word)\n",
    "x = [x for x in wordset if re.search('^[Nn]+[NnOo]+$', x)]\n",
    "print (x)"
   ]
  },
  {
   "cell_type": "code",
   "execution_count": 60,
   "metadata": {},
   "outputs": [
    {
     "name": "stdout",
     "output_type": "stream",
     "text": [
      "['1.01', '2.05', '8.8']\n",
      "['CO', 'MATH', 'ENG']\n",
      "['Computers', 'Mathematics', 'English']\n"
     ]
    }
   ],
   "source": [
    "import re \n",
    "text = '1.01 CO Computers 2.05 MATH Mathematics 8.8 ENG English'\n",
    "pattern1 = '\\d\\.\\d+'\n",
    "pattern2 = '[A-Z]{2,}'\n",
    "pattern3 = '[A-Z][a-z]+'\n",
    "x = re.findall(pattern, text)\n",
    "y = re.findall(pattern2, text)\n",
    "z = re.findall(pattern3, text)\n",
    "print (x)\n",
    "print (y)\n",
    "print (z)"
   ]
  },
  {
   "cell_type": "code",
   "execution_count": null,
   "metadata": {},
   "outputs": [],
   "source": []
  },
  {
   "cell_type": "code",
   "execution_count": null,
   "metadata": {},
   "outputs": [],
   "source": []
  }
 ],
 "metadata": {
  "kernelspec": {
   "display_name": "Python 3",
   "language": "python",
   "name": "python3"
  },
  "language_info": {
   "codemirror_mode": {
    "name": "ipython",
    "version": 3
   },
   "file_extension": ".py",
   "mimetype": "text/x-python",
   "name": "python",
   "nbconvert_exporter": "python",
   "pygments_lexer": "ipython3",
   "version": "3.7.2"
  }
 },
 "nbformat": 4,
 "nbformat_minor": 2
}
