{
 "cells": [
  {
   "cell_type": "code",
   "execution_count": 1,
   "metadata": {},
   "outputs": [],
   "source": [
    "sample_text = '''Elon Reeve Musk is a business magnate, investor and engineer. He is the founder, CEO, and lead designer of SpaceX; co-founder, CEO, and product architect of Tesla, Inc.; co-founder and CEO of Neuralink; and co-founder of PayPal. In December 2016, he was ranked 21st on the Forbes list of The World's Most Powerful People. As of August 2018, he has a net worth of $20.2 billion and is listed by Forbes as the 46th-richest person in the world. Born in Pretoria, South Africa, Musk taught himself computer programming at the age of 12. He moved to Canada when he was 17 to attend Queen's University. He transferred to the University of Pennsylvania two years later, where he received an economics degree from the Wharton School and a degree in physics from the College of Arts and Sciences. He began a Ph.D. in applied physics and material sciences at Stanford University in 1995 but dropped out after two days to pursue an entrepreneurial career. He subsequently co-founded Zip2, a web software company, which was acquired by Compaq for $340 million in 1999. Musk then founded X.com, an online bank. It merged with Confinity in 2000 and became PayPal, which was bought by eBay for $1.5 billion in October 2002.'''"
   ]
  },
  {
   "cell_type": "code",
   "execution_count": 2,
   "metadata": {},
   "outputs": [],
   "source": [
    "import nltk\n",
    "from nltk.tokenize import sent_tokenize, word_tokenize"
   ]
  },
  {
   "cell_type": "code",
   "execution_count": 28,
   "metadata": {},
   "outputs": [
    {
     "name": "stdout",
     "output_type": "stream",
     "text": [
      "The number of sentences in the paragraph is : 11\n"
     ]
    }
   ],
   "source": [
    "sent = sent_tokenize(sample_text)\n",
    "x = len(sent)\n",
    "print ('The number of sentences in the paragraph is :', x)"
   ]
  },
  {
   "cell_type": "code",
   "execution_count": 30,
   "metadata": {},
   "outputs": [
    {
     "name": "stdout",
     "output_type": "stream",
     "text": [
      "The total number of words in the paragraph: 242\n",
      "The total number of unique words in the paragraph: 140\n"
     ]
    }
   ],
   "source": [
    "word = word_tokenize(sample_text)\n",
    "print ('The total number of words in the paragraph:', len(word))\n",
    "unique_word_list = list(dict.fromkeys(word))\n",
    "print ('The total number of unique words in the paragraph:', len(unique_word_list))"
   ]
  },
  {
   "cell_type": "code",
   "execution_count": 32,
   "metadata": {},
   "outputs": [
    {
     "name": "stdout",
     "output_type": "stream",
     "text": [
      "Post cleanup : 119\n"
     ]
    }
   ],
   "source": [
    "import string\n",
    "word = word_tokenize(sample_text)\n",
    "from nltk.corpus import stopwords\n",
    "stopwords = stopwords.words('english')\n",
    "word_wo_stop = [w for w in word if w.lower() not in stopwords and w not in string.punctuation]\n",
    "print ('Post cleanup :', len(word_wo_stop))"
   ]
  },
  {
   "cell_type": "code",
   "execution_count": 35,
   "metadata": {},
   "outputs": [
    {
     "name": "stdout",
     "output_type": "stream",
     "text": [
      "Top 10 frequent words:  \n",
      " [('Musk', 3), ('CEO', 3), ('co-founder', 3), ('University', 3), ('PayPal', 2), ('Forbes', 2), (\"'s\", 2), ('billion', 2), ('two', 2), ('degree', 2)]\n"
     ]
    }
   ],
   "source": [
    "fdist = nltk.FreqDist(word_wo_stop)\n",
    "print ('Top 10 frequent words: ', '\\n',fdist.most_common(10))"
   ]
  },
  {
   "cell_type": "code",
   "execution_count": null,
   "metadata": {},
   "outputs": [],
   "source": []
  }
 ],
 "metadata": {
  "kernelspec": {
   "display_name": "Python 3",
   "language": "python",
   "name": "python3"
  },
  "language_info": {
   "codemirror_mode": {
    "name": "ipython",
    "version": 3
   },
   "file_extension": ".py",
   "mimetype": "text/x-python",
   "name": "python",
   "nbconvert_exporter": "python",
   "pygments_lexer": "ipython3",
   "version": "3.7.2"
  }
 },
 "nbformat": 4,
 "nbformat_minor": 2
}
