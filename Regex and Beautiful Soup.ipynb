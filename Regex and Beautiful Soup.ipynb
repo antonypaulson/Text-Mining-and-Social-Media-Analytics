{
 "cells": [
  {
   "cell_type": "code",
   "execution_count": 1,
   "metadata": {},
   "outputs": [],
   "source": [
    "link =\"https://www.icomarks.com/ico/faireum\"\n",
    "import re"
   ]
  },
  {
   "cell_type": "code",
   "execution_count": 10,
   "metadata": {},
   "outputs": [
    {
     "data": {
      "text/plain": [
       "61867"
      ]
     },
     "execution_count": 10,
     "metadata": {},
     "output_type": "execute_result"
    }
   ],
   "source": [
    "import urllib.request\n",
    "req = urllib.request.Request(link)\n",
    "xml =urllib.request.urlopen(req)\n",
    "sourcecode = str(xml.read())\n",
    "len(sourcecode)"
   ]
  },
  {
   "cell_type": "code",
   "execution_count": 11,
   "metadata": {},
   "outputs": [
    {
     "data": {
      "text/plain": [
       "79"
      ]
     },
     "execution_count": 11,
     "metadata": {},
     "output_type": "execute_result"
    }
   ],
   "source": [
    "sourcecode.find('Faireum')"
   ]
  },
  {
   "cell_type": "code",
   "execution_count": 19,
   "metadata": {},
   "outputs": [],
   "source": [
    "title = re.findall('<title>(.*?)</title', sourcecode)"
   ]
  },
  {
   "cell_type": "code",
   "execution_count": 20,
   "metadata": {},
   "outputs": [
    {
     "data": {
      "text/plain": [
       "['Faireum (FAIRC) - Initial Exchange Offering (IEO)']"
      ]
     },
     "execution_count": 20,
     "metadata": {},
     "output_type": "execute_result"
    }
   ],
   "source": [
    "title"
   ]
  },
  {
   "cell_type": "markdown",
   "metadata": {},
   "source": [
    ".*? lazy\n",
    ".* deligent"
   ]
  },
  {
   "cell_type": "code",
   "execution_count": 36,
   "metadata": {},
   "outputs": [],
   "source": [
    "score = re.findall('<div itemprop=\"ratingValue\" content=\"(.*?)\"></div>', sourcecode)"
   ]
  },
  {
   "cell_type": "code",
   "execution_count": 37,
   "metadata": {},
   "outputs": [
    {
     "data": {
      "text/plain": [
       "['9.7']"
      ]
     },
     "execution_count": 37,
     "metadata": {},
     "output_type": "execute_result"
    }
   ],
   "source": [
    "score"
   ]
  },
  {
   "cell_type": "code",
   "execution_count": 38,
   "metadata": {},
   "outputs": [],
   "source": [
    "des = re.findall('company-description(.*?)</div>', sourcecode)[0]"
   ]
  },
  {
   "cell_type": "code",
   "execution_count": 39,
   "metadata": {},
   "outputs": [
    {
     "data": {
      "text/plain": [
       "'\">Faireum is a public blockchain which focuses on the problems of the online gambling industry and resolves them with a set of protocols that provides a decentralized, low-cost, transparent and secure gambling experience.<br />\\\\n<br />\\\\nTo achieve this, Faireum uses its token and game contract to guarantee users a premium betting experience and superb services across lottery, horse-betting, sports-betting, casino games, digital games and countless more.<br />\\\\n<br />\\\\nA smart client also works alongside Faireum\\\\xe2\\\\x80\\\\x99s protocols, called a Faireum node, which helps provide users with a safe, seamless and always-on experience in playing all the games they wish to play.'"
      ]
     },
     "execution_count": 39,
     "metadata": {},
     "output_type": "execute_result"
    }
   ],
   "source": [
    "des"
   ]
  },
  {
   "cell_type": "code",
   "execution_count": 41,
   "metadata": {},
   "outputs": [],
   "source": [
    "des = re.sub('<.*?','',des)"
   ]
  },
  {
   "cell_type": "code",
   "execution_count": 46,
   "metadata": {},
   "outputs": [],
   "source": [
    "import bs4 as bs\n",
    "import re\n",
    "import urllib.request\n",
    "xml =urllib.request.urlopen(req)\n",
    "sourcecode = str(xml.read())\n",
    "soup = bs.BeautifulSoup(sourcecode)"
   ]
  },
  {
   "cell_type": "code",
   "execution_count": 55,
   "metadata": {},
   "outputs": [
    {
     "data": {
      "text/plain": [
       "<div class=\"company-description\">Faireum is a public blockchain which focuses on the problems of the online gambling industry and resolves them with a set of protocols that provides a decentralized, low-cost, transparent and secure gambling experience.<br/>\\n<br/>\\nTo achieve this, Faireum uses its token and game contract to guarantee users a premium betting experience and superb services across lottery, horse-betting, sports-betting, casino games, digital games and countless more.<br/>\\n<br/>\\nA smart client also works alongside Faireum\\xe2\\x80\\x99s protocols, called a Faireum node, which helps provide users with a safe, seamless and always-on experience in playing all the games they wish to play.</div>"
      ]
     },
     "execution_count": 55,
     "metadata": {},
     "output_type": "execute_result"
    }
   ],
   "source": [
    "div = soup.find_all('div',{'class':'company-description'})[0]\n",
    "div"
   ]
  },
  {
   "cell_type": "code",
   "execution_count": 63,
   "metadata": {},
   "outputs": [],
   "source": [
    "teamdiv = soup.find_all('div', {'class':'company-team__title'})"
   ]
  },
  {
   "cell_type": "code",
   "execution_count": 64,
   "metadata": {},
   "outputs": [
    {
     "name": "stdout",
     "output_type": "stream",
     "text": [
      "Ishihara Yoshihiko\n",
      "Evan Dai Shore\n",
      "Jixing Jin\n",
      "Jun Fei Yap\n",
      "Mykola Vdovychenko\n",
      "Maxim Byakow\n",
      "Valeria Boykova\n",
      "Veliulla Liumanov\n",
      "Mykola Melnyk\n",
      "Denys Krolevetskyi\n",
      "Alina Zorilo\n",
      "Dmytro Dubsky\n",
      "Mark France\n",
      "Genesis Gil Bulan\n",
      "Yhoreneo Posada\n",
      "Andriy Cholak\n",
      "Mitsunori Kamimura\n",
      "Vladimir Solin\n",
      "Anna Vynokurova\n",
      "Vince Howard\n",
      "Galina Mikova\n",
      "Nicolas Fleiderman\n",
      "Eugene Lavrinenko\n",
      "Marcin Zduniak\n",
      "Gregory Tkach\n"
     ]
    }
   ],
   "source": [
    "for i in teamdiv:\n",
    "    print (i.text)"
   ]
  },
  {
   "cell_type": "code",
   "execution_count": 67,
   "metadata": {},
   "outputs": [],
   "source": [
    "for i in soup.find_all('a'):\n",
    "    link = i.get('href')\n",
    "    if 'whitepaper' in link:\n",
    "        whiteurl = link\n",
    "\n",
    "import requests\n",
    "pdf = requests.get(whiteurl)\n",
    "\n",
    "with open('whitepaper.pdf', 'wb') as f:\n",
    "    f.write(pdf.content)"
   ]
  },
  {
   "cell_type": "code",
   "execution_count": 72,
   "metadata": {},
   "outputs": [],
   "source": [
    "imgdiv =soup.find_all('div', {'class':'company-h1__img'})[0]"
   ]
  },
  {
   "cell_type": "code",
   "execution_count": 81,
   "metadata": {},
   "outputs": [],
   "source": [
    "soup1 =bs.BeautifulSoup(str(imgdiv),'lxml')\n",
    "imgtag = soup1.find_all('img')[0]"
   ]
  },
  {
   "cell_type": "code",
   "execution_count": 84,
   "metadata": {},
   "outputs": [],
   "source": [
    "imgurl = 'https://www.icomarks.com' + imgtag.get('src')"
   ]
  },
  {
   "cell_type": "code",
   "execution_count": 85,
   "metadata": {},
   "outputs": [
    {
     "data": {
      "text/plain": [
       "'https://www.icomarks.com/files/companies/59/5865cc45b80d2322b1582d84de538179f35b.jpg'"
      ]
     },
     "execution_count": 85,
     "metadata": {},
     "output_type": "execute_result"
    }
   ],
   "source": [
    "imgurl"
   ]
  },
  {
   "cell_type": "code",
   "execution_count": 86,
   "metadata": {},
   "outputs": [],
   "source": [
    "import requests\n",
    "image = requests.get(imgurl)\n",
    "with open('image.png', 'wb') as f:\n",
    "    f.write(image.content)"
   ]
  },
  {
   "cell_type": "code",
   "execution_count": null,
   "metadata": {},
   "outputs": [],
   "source": []
  }
 ],
 "metadata": {
  "kernelspec": {
   "display_name": "Python 3",
   "language": "python",
   "name": "python3"
  },
  "language_info": {
   "codemirror_mode": {
    "name": "ipython",
    "version": 3
   },
   "file_extension": ".py",
   "mimetype": "text/x-python",
   "name": "python",
   "nbconvert_exporter": "python",
   "pygments_lexer": "ipython3",
   "version": "3.7.2"
  }
 },
 "nbformat": 4,
 "nbformat_minor": 2
}
